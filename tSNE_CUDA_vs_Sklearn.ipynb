{
  "nbformat": 4,
  "nbformat_minor": 0,
  "metadata": {
    "colab": {
      "provenance": [],
      "gpuType": "T4",
      "include_colab_link": true
    },
    "kernelspec": {
      "name": "python3",
      "display_name": "Python 3"
    },
    "language_info": {
      "name": "python"
    },
    "accelerator": "GPU"
  },
  "cells": [
    {
      "cell_type": "markdown",
      "metadata": {
        "id": "view-in-github",
        "colab_type": "text"
      },
      "source": [
        "<a href=\"https://colab.research.google.com/github/WuVi5054/interesting_things/blob/main/tSNE_CUDA_vs_Sklearn.ipynb\" target=\"_parent\"><img src=\"https://colab.research.google.com/assets/colab-badge.svg\" alt=\"Open In Colab\"/></a>"
      ]
    },
    {
      "cell_type": "markdown",
      "source": [
        "# Daily Dose of Data Science\n",
        "\n",
        "[This GPU Accelerated tSNE Can Be Upto 700x Faster Than Sklearn](https://www.blog.dailydoseofds.com/p/this-gpu-accelerated-tsne-can-be)\n",
        "\n",
        "Author: Avi Chawla\n",
        "\n",
        "Before running this notebook: Go to \"Runtime\" -> \"Change Runtime Type\" -> Select \"GPU T4\""
      ],
      "metadata": {
        "id": "fuBP3YAJjsxn"
      }
    },
    {
      "cell_type": "code",
      "source": [
        "!pip install -q condacolab\n",
        "\n",
        "import condacolab\n",
        "condacolab.install()"
      ],
      "metadata": {
        "id": "0d-BkLEOYy38"
      },
      "execution_count": null,
      "outputs": []
    },
    {
      "cell_type": "code",
      "source": [
        "!conda install tsnecuda -c conda-forge"
      ],
      "metadata": {
        "id": "A-oYryfrZWOf"
      },
      "execution_count": null,
      "outputs": []
    },
    {
      "cell_type": "markdown",
      "source": [
        "Imports"
      ],
      "metadata": {
        "id": "ftBXU_J0r7Bb"
      }
    },
    {
      "cell_type": "code",
      "source": [
        "import tsnecuda\n",
        "tsnecuda.test() # this should work without any error"
      ],
      "metadata": {
        "id": "X5czqDLTXjeW"
      },
      "execution_count": null,
      "outputs": []
    },
    {
      "cell_type": "code",
      "source": [
        "import numpy as np\n",
        "import matplotlib.pyplot as plt\n",
        "import seaborn as sns\n",
        "\n",
        "from sklearn.datasets import fetch_openml\n",
        "\n",
        "sns.set()"
      ],
      "metadata": {
        "id": "lgiCY_3HjK4e"
      },
      "execution_count": null,
      "outputs": []
    },
    {
      "cell_type": "code",
      "source": [
        "colors = ['#fe7c73', '#2471A3', '#3498DB', '#27AE60', '#82E0AA', '#D35400', '#5D6D7E', '#E74C3C', '#21618C', '#B7950B', '#46C7C7', '#00B9FF']"
      ],
      "metadata": {
        "id": "rSF3dLCRjrCG"
      },
      "execution_count": null,
      "outputs": []
    },
    {
      "cell_type": "markdown",
      "source": [
        "Load dataset"
      ],
      "metadata": {
        "id": "0aVX706cr-Ah"
      }
    },
    {
      "cell_type": "code",
      "source": [
        "# Load MNIST dataset\n",
        "mnist = fetch_openml('mnist_784')\n",
        "\n",
        "# Extract features and labels\n",
        "X, y = mnist['data'], mnist['target']\n",
        "\n",
        "# Convert to numpy arrays\n",
        "X = X.to_numpy().astype('float32')\n",
        "y = y.to_numpy().astype('int')\n",
        "\n",
        "# Print the shape of the arrays\n",
        "print(\"Shape of features (X):\", X.shape)\n",
        "print(\"Shape of labels (y):\", y.shape)"
      ],
      "metadata": {
        "colab": {
          "base_uri": "https://localhost:8080/"
        },
        "id": "BZYOtihcaM8h",
        "outputId": "2fd40940-357e-4b9e-a67e-6c27069eea65"
      },
      "execution_count": null,
      "outputs": [
        {
          "output_type": "stream",
          "name": "stdout",
          "text": [
            "Shape of features (X): (70000, 784)\n",
            "Shape of labels (y): (70000,)\n"
          ]
        }
      ]
    },
    {
      "cell_type": "markdown",
      "source": [
        "Sample rows"
      ],
      "metadata": {
        "id": "-pgoOVe2r_ei"
      }
    },
    {
      "cell_type": "code",
      "source": [
        "# Get the number of rows in X\n",
        "num_rows = X.shape[0]\n",
        "\n",
        "# Randomly sample 8,000 indices\n",
        "random_indices = np.random.choice(num_rows, size=8000, replace=False)\n",
        "\n",
        "# Select the rows based on the randomly sampled indices\n",
        "sampled_X = X[random_indices]\n",
        "sampled_y = y[random_indices]"
      ],
      "metadata": {
        "id": "EwiaYeoiaqCY"
      },
      "execution_count": null,
      "outputs": []
    },
    {
      "cell_type": "markdown",
      "source": [
        "# tSNE CUDA"
      ],
      "metadata": {
        "id": "Meu8DF5KjVyA"
      }
    },
    {
      "cell_type": "code",
      "source": [
        "from tsnecuda import TSNE as TSNE_GPU"
      ],
      "metadata": {
        "id": "ceOXSfUwXpx8"
      },
      "execution_count": null,
      "outputs": []
    },
    {
      "cell_type": "code",
      "source": [
        "%%timeit\n",
        "\n",
        "X_embedded_gpu = TSNE_GPU(n_components=2, learning_rate=20, perplexity=25).fit_transform(sampled_X)"
      ],
      "metadata": {
        "id": "sCUZcWaoZ5Bv"
      },
      "execution_count": null,
      "outputs": []
    },
    {
      "cell_type": "code",
      "source": [
        "X_embedded_gpu = TSNE_GPU(n_components=2, learning_rate=20, perplexity=25).fit_transform(sampled_X)"
      ],
      "metadata": {
        "id": "Vyjj4uOTjTZf"
      },
      "execution_count": null,
      "outputs": []
    },
    {
      "cell_type": "code",
      "source": [
        "fig, ax = plt.subplots()\n",
        "\n",
        "ax.scatter(X_embedded_gpu[:, 0], X_embedded_gpu[:, 1], c = [colors[i] for i in sampled_y], s=10)\n",
        "\n",
        "ax.set_title(\"tSNE GPU\", fontsize=20, weight=\"bold\")\n",
        "plt.savefig(\"./tsne_gpu.jpeg\", dpi=300, bbox_inches=\"tight\")\n",
        "\n",
        "plt.show()"
      ],
      "metadata": {
        "id": "XQFevNvQsDUL"
      },
      "execution_count": null,
      "outputs": []
    },
    {
      "cell_type": "markdown",
      "source": [
        "# tSNE Sklearn"
      ],
      "metadata": {
        "id": "9QX4KpgIjdDH"
      }
    },
    {
      "cell_type": "code",
      "source": [
        "from sklearn.manifold import TSNE as TSNE_CPU"
      ],
      "metadata": {
        "id": "zdvwUgdPaiab"
      },
      "execution_count": null,
      "outputs": []
    },
    {
      "cell_type": "code",
      "source": [
        "%%timeit -n 1 -r 1\n",
        "\n",
        "X_embedded_cpu = TSNE_CPU(n_components=2, learning_rate=20, perplexity=25).fit_transform(sampled_X)"
      ],
      "metadata": {
        "id": "VyAo4ewfbTFP"
      },
      "execution_count": null,
      "outputs": []
    },
    {
      "cell_type": "code",
      "source": [
        "X_embedded_cpu = TSNE_CPU(n_components=2, learning_rate=20, perplexity=25).fit_transform(sampled_X)"
      ],
      "metadata": {
        "id": "dqLmA7KFdQtj"
      },
      "execution_count": null,
      "outputs": []
    },
    {
      "cell_type": "code",
      "source": [
        "fig, ax = plt.subplots()\n",
        "\n",
        "ax.scatter(X_embedded_cpu[:, 0], X_embedded_cpu[:, 1], c = [colors[i] for i in sampled_y], s=10)\n",
        "\n",
        "ax.set_title(\"tSNE Sklearn\", fontsize=20, weight=\"bold\")\n",
        "plt.savefig(\"./tsne_cpu.jpeg\", dpi=300, bbox_inches=\"tight\")\n",
        "plt.show()"
      ],
      "metadata": {
        "id": "cvZjWXqYc4NB"
      },
      "execution_count": null,
      "outputs": []
    }
  ]
}